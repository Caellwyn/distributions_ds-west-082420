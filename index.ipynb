{
 "cells": [
  {
   "cell_type": "markdown",
   "metadata": {},
   "source": [
    "# Statistical Distributions"
   ]
  },
  {
   "cell_type": "markdown",
   "metadata": {},
   "source": [
    "![](images/distributions.png)"
   ]
  },
  {
   "cell_type": "markdown",
   "metadata": {},
   "source": [
    "# Order of Business:\n",
    "    \n",
    ">    1. Describe the difference between discrete vs continuous variables\n",
    ">    2. Describe the difference between PMFs, PDFs, CDFs\n",
    ">    3. Introduce the bernouli and binomial distributions\n",
    ">    4. Introduce the normal distribution and empirical rule"
   ]
  },
  {
   "cell_type": "markdown",
   "metadata": {},
   "source": [
    "## What is a statistical distribution?\n",
    "\n",
    "> After establishing the set of all possible outcomes, a statistical distribution is a representation of the relative frequency each event will occur."
   ]
  },
  {
   "cell_type": "markdown",
   "metadata": {},
   "source": [
    "The distributions we introduce today will reappear throughout the bootcamp.  They will:\n",
    "\n",
    "1. Allow us to conduct statistical tests to judge the validity of our conclusions.  As a data scientist at your company, you may be asked to perform various scientific tests. For example, you may be asked to judge whether a certain change to the user interface of your website increases conversion rate. \n",
    "2. Provide the foundation for specific assumptions of linear regression.\n",
    "3. Appear in the cost functions tied to logistic regression and other models.\n",
    "4. Drive the classification decisions made in parametric models, such as Naive-Bayes. "
   ]
  },
  {
   "cell_type": "markdown",
   "metadata": {},
   "source": [
    "\n",
    "\n",
    "# 1. Discrete vs Continuous\n",
    "\n",
    "We will learn about a variety of different probability distributions, but before we do so, we need to establish the difference between **discrete** and **continuous** variables."
   ]
  },
  {
   "cell_type": "markdown",
   "metadata": {},
   "source": [
    "## Discrete\n",
    ">  With discrete distributions, the values can only take a finite set of values.  Take, for example, a roll of a single six-sided die. "
   ]
  },
  {
   "cell_type": "markdown",
   "metadata": {},
   "source": [
    "![](images/uniform.png)"
   ]
  },
  {
   "cell_type": "markdown",
   "metadata": {},
   "source": [
    "> - There are 6 possible outcomes of the roll.  In other words, 4.5 cannot be an outcome. As you see on the PMF plot, the bars which represent probability do not touch, suggesting non-integer numbers between 1 and 6 are not possible results."
   ]
  },
  {
   "cell_type": "markdown",
   "metadata": {},
   "source": [
    "### Let's think back to our Phase 1 projects: What are some examples of discrete probability distributions in either the King County or Movie datasets?"
   ]
  },
  {
   "cell_type": "markdown",
   "metadata": {},
   "source": [
    "your answer here"
   ]
  },
  {
   "cell_type": "code",
   "execution_count": 34,
   "metadata": {},
   "outputs": [],
   "source": [
    "#__SOLUTIONS__\n",
    "# probability of a youth in SKC being an opportunity youth vs not\n",
    "# Probability of an opporunity youth in SKC having a certain level of education.\n",
    "# Probability distribution of of movies that have more than 500 reviews across genres\n",
    "# Probability distribution of movies making over 25 million across studios."
   ]
  },
  {
   "cell_type": "markdown",
   "metadata": {},
   "source": [
    "Let's take a moment to look back at the Divy data we encountered in our visualizations lesson.\n",
    "\n"
   ]
  },
  {
   "cell_type": "code",
   "execution_count": 35,
   "metadata": {},
   "outputs": [],
   "source": [
    "# ! curl https://divvy-tripdata.s3.amazonaws.com/Divvy_Trips_2020_Q1.zip -o 'data/divy_2020_Q1.zip'\n",
    "# ! unzip data/divy_2020_Q1.zip -d data"
   ]
  },
  {
   "cell_type": "code",
   "execution_count": 2,
   "metadata": {},
   "outputs": [],
   "source": [
    "import pandas as pd\n",
    "import numpy as np\n",
    "import matplotlib.pyplot as plt\n",
    "import seaborn as sns\n",
    "\n",
    "\n",
    "%load_ext autoreload\n",
    "%autoreload 2\n",
    "from src.data_import import prep_divy\n",
    "from src.student_caller import three_random_students\n",
    "from src.student_list import student_first_names\n",
    "divy_trips = prep_divy()\n"
   ]
  },
  {
   "cell_type": "code",
   "execution_count": 37,
   "metadata": {},
   "outputs": [],
   "source": [
    "# Let's create a probability distribution of the rides per day of the week."
   ]
  },
  {
   "cell_type": "code",
   "execution_count": 38,
   "metadata": {},
   "outputs": [],
   "source": [
    "# code here"
   ]
  },
  {
   "cell_type": "code",
   "execution_count": 39,
   "metadata": {},
   "outputs": [
    {
     "data": {
      "text/plain": [
       "Text(0.5, 1.0, 'Distribution of Divy Rides per Day')"
      ]
     },
     "execution_count": 39,
     "metadata": {},
     "output_type": "execute_result"
    },
    {
     "data": {
      "image/png": "[encoded data removed]",
      "text/plain": [
       "<Figure size 432x288 with 1 Axes>"
      ]
     },
     "metadata": {
      "needs_background": "light"
     },
     "output_type": "display_data"
    }
   ],
   "source": [
    "#__SOLUTION__\n",
    "import numpy as np\n",
    "import matplotlib.pyplot as plt\n",
    "import seaborn as sns\n",
    "fig, ax = plt.subplots()\n",
    "\n",
    "values, counts = np.unique(divy_trips['weekday'], return_counts = True)\n",
    "counts = [count/sum(counts) for count in counts]\n",
    "ax.bar(values, counts)\n",
    "ax.set_title('Distribution of Divy Rides per Day')"
   ]
  },
  {
   "cell_type": "markdown",
   "metadata": {},
   "source": [
    "The above plot visualizes an **empirical** distribution. Empirical distributions are based on observations of real world phenomena. \n",
    "\n",
    "An a**nalytical** distribution is one which is created by a mathematical function.  We use analytical functions to model real world phenomena. \n",
    "[ThinkStats2e](http://greenteapress.com/thinkstats2/html/thinkstats2006.html)"
   ]
  },
  {
   "cell_type": "markdown",
   "metadata": {},
   "source": [
    "#### Examples of analytical discrete distributions:\n",
    "\n",
    "> 1. The Uniform Distribution:- occurs when all possible outcomes are equally likely.\n",
    "> 2. The Bernoulli Distribution: - represents the probability of success for a certain experiment (binary outcome).\n",
    "> 3. The Binomial Distribution - represents the probability of observing a specific number of successes (Bernoulli trials) in a specific number of trials.\n",
    "> 4. The Poisson Distribution:- represents the probability of 𝑛 events in a given time period when the overall rate of occurrence is constant.\n",
    "\n"
   ]
  },
  {
   "cell_type": "markdown",
   "metadata": {},
   "source": [
    "## Continuous\n",
    "\n",
    "With a continous distribution, the set of possible results is an infinite set of values within a range. One way to think about continuous variables are variables that have been measured.  Measurement can always be more precise.\n",
    "\n",
    "> - A common example is height.  Although we think of height often in values such as 5 feet 7 inches, the exact height of a person can be any value within the range of possible heights.  In other words, a person could be 5 foot 7.000001 inches tall. \n",
    "> - Another example is temperature, as shown below:\n",
    "\n",
    "![](images/pdf.png)"
   ]
  },
  {
   "cell_type": "markdown",
   "metadata": {},
   "source": [
    "#### Examples of analytical continuous distributions\n",
    "> 1. Continuous uniform\n",
    "> 2. The Normal or Gaussian distribution.\n",
    "> 3. Exponential\n"
   ]
  },
  {
   "cell_type": "markdown",
   "metadata": {},
   "source": [
    "### What are examples of continuous probability distributions in the SKC and movie datasets?"
   ]
  },
  {
   "cell_type": "markdown",
   "metadata": {},
   "source": [
    "    # your answer here"
   ]
  },
  {
   "cell_type": "code",
   "execution_count": 40,
   "metadata": {},
   "outputs": [],
   "source": [
    "#__SOLUTION__\n",
    "# Probability that an opportunity youth is of a certain age in SKC\n",
    "# Probability distribution of the average review of a movie\n"
   ]
  },
  {
   "cell_type": "code",
   "execution_count": 41,
   "metadata": {},
   "outputs": [],
   "source": [
    "# Let's take the data above, and inspect and plot a continuous variable: ride time.\n"
   ]
  },
  {
   "cell_type": "code",
   "execution_count": 42,
   "metadata": {},
   "outputs": [],
   "source": [
    "# Boxplot"
   ]
  },
  {
   "cell_type": "code",
   "execution_count": 43,
   "metadata": {},
   "outputs": [],
   "source": [
    "# Boxplot no fliers"
   ]
  },
  {
   "cell_type": "code",
   "execution_count": 44,
   "metadata": {},
   "outputs": [],
   "source": [
    "# Histogram"
   ]
  },
  {
   "cell_type": "code",
   "execution_count": 45,
   "metadata": {},
   "outputs": [
    {
     "data": {
      "text/plain": [
       "Text(0.5, 1.0, 'Divy Bike Ride Time in Seconds\\n (No Outliers)')"
      ]
     },
     "execution_count": 45,
     "metadata": {},
     "output_type": "execute_result"
    },
    {
     "data": {
      "image/png": "[encoded data removed]",
      "text/plain": [
       "<Figure size 432x288 with 1 Axes>"
      ]
     },
     "metadata": {
      "needs_background": "light"
     },
     "output_type": "display_data"
    }
   ],
   "source": [
    "#__SOLUTION__\n",
    "import matplotlib.pyplot as plt\n",
    "fig, ax = plt.subplots()\n",
    "\n",
    "ax.boxplot(divy_trips.ride_time);\n",
    "ax.set_title(\"Divy Bike Ride Time in Seconds\\n (No Outliers)\")"
   ]
  },
  {
   "cell_type": "code",
   "execution_count": 46,
   "metadata": {},
   "outputs": [
    {
     "data": {
      "text/plain": [
       "Text(0.5, 1.0, 'Divy Bike Ride Time in Seconds\\n (No Outliers)')"
      ]
     },
     "execution_count": 46,
     "metadata": {},
     "output_type": "execute_result"
    },
    {
     "data": {
      "image/png": "[encoded data removed]",
      "text/plain": [
       "<Figure size 432x288 with 1 Axes>"
      ]
     },
     "metadata": {
      "needs_background": "light"
     },
     "output_type": "display_data"
    }
   ],
   "source": [
    "#__SOLUTION__\n",
    "import matplotlib.pyplot as plt\n",
    "fig, ax = plt.subplots()\n",
    "\n",
    "ax.boxplot(divy_trips.ride_time, showfliers=False);\n",
    "ax.set_title(\"Divy Bike Ride Time in Seconds\\n (No Outliers)\")"
   ]
  },
  {
   "cell_type": "code",
   "execution_count": 47,
   "metadata": {},
   "outputs": [
    {
     "data": {
      "text/plain": [
       "Text(0.5, 1.0, 'Divy Bike Ride Time in Seconds\\n (No Outliers)')"
      ]
     },
     "execution_count": 47,
     "metadata": {},
     "output_type": "execute_result"
    },
    {
     "data": {
      "image/png": "[encoded data removed]",
      "text/plain": [
       "<Figure size 432x288 with 1 Axes>"
      ]
     },
     "metadata": {
      "needs_background": "light"
     },
     "output_type": "display_data"
    }
   ],
   "source": [
    "#__SOLUTION__\n",
    "fig, ax = plt.subplots()\n",
    "\n",
    "no_fliers_rt = divy_trips[divy_trips.ride_time < 2000]\n",
    "\n",
    "ax.hist(no_fliers_rt.ride_time, bins=50, density=True);\n",
    "ax.set_title(\"Divy Bike Ride Time in Seconds\\n (No Outliers)\")"
   ]
  },
  {
   "cell_type": "markdown",
   "metadata": {},
   "source": [
    "The distinction between descrete and continuous is very important to have in your mind, and can easily be seen in plots. \n",
    "\n",
    "Let's do a quick exercise. There are two tasks.  \n",
    "\n",
    "1. First, simply change the color of the plots representing descrete data to orange and the plots represent continous data to blue.\n",
    "2. Attach the titles to the distributions you think reflect the data set described."
   ]
  },
  {
   "cell_type": "code",
   "execution_count": 48,
   "metadata": {},
   "outputs": [],
   "source": [
    "from scipy import stats\n",
    "from matplotlib import pyplot as plt\n",
    "import seaborn as sns\n",
    "import numpy as np\n",
    "%matplotlib inline"
   ]
  },
  {
   "cell_type": "code",
   "execution_count": 49,
   "metadata": {},
   "outputs": [
    {
     "ename": "SyntaxError",
     "evalue": "EOL while scanning string literal (<ipython-input-49-8ef349ae5c7e>, line 4)",
     "output_type": "error",
     "traceback": [
      "\u001b[0;36m  File \u001b[0;32m\"<ipython-input-49-8ef349ae5c7e>\"\u001b[0;36m, line \u001b[0;32m4\u001b[0m\n\u001b[0;31m    title_4 = 'probability that a computer part lasts a certain amount of time from now.\u001b[0m\n\u001b[0m                                                                                        ^\u001b[0m\n\u001b[0;31mSyntaxError\u001b[0m\u001b[0;31m:\u001b[0m EOL while scanning string literal\n"
     ]
    }
   ],
   "source": [
    "\n",
    "title_1 = \"height_of_us_women in inches\"\n",
    "title_2 = 'outcomes of flipping a coin 100 times'\n",
    "title_3 = 'outcomes of rolling a 20 sided die 1000 times'\n",
    "title_4 = 'probability that a computer part lasts a certain amount of time from now.'\n",
    "title_5 = 'probability that a picture is a chihauhua\\n, a muffin, a bird, or a piece of pizza\\n as would guess a neural network'\n",
    "title_6 = 'probability of rolling a value equal to or below\\n a certain number on a 20 sided dice'\n",
    "no_title = 'no_title'\n",
    "\n",
    "fig, ax = plt.subplots(2,3, figsize=(15,10))\n",
    "\n",
    "sns.kdeplot(np.random.exponential(10, size=1000), ax=ax[0][0], color='purple')\n",
    "ax[0][0].set_xlim(0,80)\n",
    "ax[0][0].set_title(no_title)\n",
    "\n",
    "sns.barplot(['outcome_1', 'outcome_2', 'outcome_3', 'outcome_4'], [.4,.5,.08,.02], ax=ax[1][0], color='yellow')\n",
    "ax[1][0].tick_params(labelrotation=45)\n",
    "ax[1][0].set_title(no_title)\n",
    "\n",
    "sns.kdeplot(np.random.normal(64.5, 2.5, 1000), ax=ax[1][1])\n",
    "ax[1][1].set_title(no_title)\n",
    "\n",
    "sns.barplot(x=['outcome_1','outcome_2'], y=[sum(np.random.binomial(1,.5, 100)),100 - sum(np.random.binomial(1,.5, 100))], ax=ax[0][1], color='pink')\n",
    "ax[0][1].set_title(no_title)\n",
    "\n",
    "sns.barplot(x=list(range(1,21)), y=np.unique(np.random.randint(1,21,1000), return_counts=True)[1], ax=ax[0][2], color='teal')\n",
    "ax[0][2].tick_params(labelrotation=45)\n",
    "ax[0][2].set_title(no_title)\n",
    "\n",
    "sns.barplot(list(range(1,21)), np.cumsum([1/20 for number in range(1,21)]), ax=ax[1][2])\n",
    "ax[1][2].set_title(no_title)\n",
    "\n",
    "plt.tight_layout()"
   ]
  },
  {
   "cell_type": "code",
   "execution_count": 50,
   "metadata": {},
   "outputs": [
    {
     "data": {
      "image/png": "[encoded data removed]",
      "text/plain": [
       "<Figure size 1080x720 with 6 Axes>"
      ]
     },
     "metadata": {
      "needs_background": "light"
     },
     "output_type": "display_data"
    }
   ],
   "source": [
    "#__SOLUTION__\n",
    "title_1 = \"height_of_us_women in inches\"\n",
    "title_2 = 'result of flipping a coin 100 times'\n",
    "title_3 = 'result of rolling a 20 sided dice 1000 times'\n",
    "title_4 = 'the length of time from today a computer part lasts'\n",
    "title_5 = 'probability that a picture is a chihauhua\\n, a muffin, a bird, or a piece of pizza\\n as would guess a neural network'\n",
    "title_6 = 'probability of rolling a value equal to or below\\n a certain number on a 20 sided dice'\n",
    "no_title = 'no_title'\n",
    "\n",
    "fig, ax = plt.subplots(2,3, figsize=(15,10))\n",
    "\n",
    "sns.kdeplot(np.random.exponential(10, size=1000), ax=ax[0][0], color='blue')\n",
    "ax[0][0].set_xlim(0,80)\n",
    "ax[0][0].set_title(title_4)\n",
    "\n",
    "sns.barplot(['outcome_1', 'outcome_2', 'outcome_3', 'outcome_4'], [.4,.5,.08,.02], ax=ax[1][0], color='orange')\n",
    "ax[1][0].tick_params(labelrotation=45)\n",
    "ax[1][0].set_title(title_5)\n",
    "\n",
    "sns.kdeplot(np.random.normal(64.5, 2.5, 1000), ax=ax[1][1], color='blue')\n",
    "ax[1][1].set_title(title_1)\n",
    "\n",
    "sns.barplot(x=['outcome_1','outcome_2'], y=[sum(np.random.binomial(1,.5, 100)),100 - sum(np.random.binomial(1,.5, 100))], ax=ax[0][1], color='orange')\n",
    "ax[0][1].set_title(title_2)\n",
    "\n",
    "sns.barplot(x=list(range(1,21)), y=np.unique(np.random.randint(1,21,1000), return_counts=True)[1], ax=ax[0][2], color='orange')\n",
    "ax[0][2].tick_params(labelrotation=45)\n",
    "ax[0][2].set_title(title_3)\n",
    "\n",
    "sns.barplot(list(range(1,21)), np.cumsum([1/20 for number in range(1,21)]), ax=ax[1][2], color='orange')\n",
    "ax[1][2].set_title(title_6)\n",
    "\n",
    "plt.tight_layout()\n"
   ]
  },
  {
   "cell_type": "markdown",
   "metadata": {},
   "source": [
    "# 2. PMFs, PDFs, and CDFs, oh my!"
   ]
  },
  {
   "cell_type": "markdown",
   "metadata": {},
   "source": [
    "## PMF: Probability Mass Function\n"
   ]
  },
  {
   "cell_type": "markdown",
   "metadata": {},
   "source": [
    "The $\\bf{probability\\ mass\\ function\\ (pmf)}$ for a random variable gives, at any value $k$, the probability that the random variable takes the value $k$. Suppose, for example, that I have a jar full of lottery balls containing:\n",
    "- 50 \"1\"s,\n",
    "- 25 \"2\"s,\n",
    "- 15 \"3\"s,\n",
    "- 10 \"4\"s\n",
    "\n",
    "We then represent this function in a plot like so:"
   ]
  },
  {
   "cell_type": "code",
   "execution_count": 51,
   "metadata": {},
   "outputs": [],
   "source": [
    "# For each number, we calculate the probability that pull it from the jar by dividing\n",
    "\n",
    "numbers = range(1,5)\n",
    "counts = [50,25, 15, 10]"
   ]
  },
  {
   "cell_type": "code",
   "execution_count": 52,
   "metadata": {},
   "outputs": [],
   "source": [
    "# calculate the probs by dividing each count by the total number of balls.\n",
    "probs = None\n",
    "loto_dict = {}"
   ]
  },
  {
   "cell_type": "code",
   "execution_count": 53,
   "metadata": {},
   "outputs": [
    {
     "data": {
      "text/plain": [
       "{1: 0.5, 2: 0.25, 3: 0.15, 4: 0.1}"
      ]
     },
     "execution_count": 53,
     "metadata": {},
     "output_type": "execute_result"
    }
   ],
   "source": [
    "#__SOLUTION__\n",
    "probs = [count/sum(counts) for count in counts]\n",
    "\n",
    "lotto_dict = {number: prob for number,prob in zip(numbers, probs)}\n",
    "lotto_dict"
   ]
  },
  {
   "cell_type": "code",
   "execution_count": 54,
   "metadata": {},
   "outputs": [
    {
     "data": {
      "image/png": "[encoded data removed]",
      "text/plain": [
       "<Figure size 432x432 with 1 Axes>"
      ]
     },
     "metadata": {
      "needs_background": "light"
     },
     "output_type": "display_data"
    }
   ],
   "source": [
    "# Plot here!\n",
    "\n",
    "\n",
    "x = list(lotto_dict.keys())\n",
    "y = list(lotto_dict.values())\n",
    "\n",
    "fig, ax = plt.subplots(1, 1, figsize=(6, 6))\n",
    "ax.plot(x, y, 'bo', ms=8, label='lotto pmf')\n",
    "ax.vlines(x, 0, y, 'r', lw=5)\n",
    "ax.legend(loc='best');"
   ]
  },
  {
   "cell_type": "markdown",
   "metadata": {},
   "source": [
    "### Expected Value/Mean\n",
    "\n",
    "The expected value, or the mean, describes the 'center' of the distribution (you may hear this called the first moment).  The 'center' refers loosely to the middle-values of a distribution, and is measured more precisely by notions like the mean, the median, and the mode.\n",
    "\n",
    "For a discrete distribution, working from the vantage point of a collected sample of n data points:\n",
    "\n",
    "mean = $\\Large\\mu = \\frac{\\Sigma^n_{i = 1}x_i}{n}$\n",
    "\n",
    "If we are working from the vantage point of known probabilities, the mean is referred to as the expected value. The expected value of a discrete distribution is the weighted sum of all values of x, where the weight is their probability.\n",
    " \n",
    "The expected value of the Lotto example is:\n",
    "${\\displaystyle \\operatorname {E} [X]= \\Sigma^n_{i=1}p(x_i)x_i}$"
   ]
  },
  {
   "cell_type": "markdown",
   "metadata": {},
   "source": [
    "\n",
    "## Let's calculate the expected value of the lotto example:\n"
   ]
  },
  {
   "cell_type": "code",
   "execution_count": 55,
   "metadata": {},
   "outputs": [],
   "source": [
    "# code"
   ]
  },
  {
   "cell_type": "code",
   "execution_count": 56,
   "metadata": {},
   "outputs": [
    {
     "data": {
      "text/plain": [
       "1.85"
      ]
     },
     "execution_count": 56,
     "metadata": {},
     "output_type": "execute_result"
    }
   ],
   "source": [
    "#__SOLUTION__\n",
    "\n",
    "expected_value = np.sum(np.array(list(lotto_dict.keys())) \n",
    "                        * np.array(list(lotto_dict.values())))\n",
    "expected_value"
   ]
  },
  {
   "cell_type": "markdown",
   "metadata": {},
   "source": [
    "### Variance/Standard Deviation\n",
    "Variance describes the spread of the data (it is also referred to as the second moment).  The 'spread' refers loosely to how far away the more extreme values are from the center.\n",
    "\n",
    "Standard deviation is the square root of variance, and effectively measures the *average distance away from the mean*.\n",
    "\n",
    "From the standpoint of a sample, the variance of a discrete distribution of n data points is:\n",
    "\n",
    "std = $\\Large\\sigma = \\sqrt{\\frac{\\Sigma^n_{i = 1}(x_i - \\mu)^2}{n}}$\n",
    "\n",
    "\n",
    "Variance is the expectation of the squared deviation of a random variable from its mean.\n",
    "\n",
    "For our Lotto PMF, that means:\n",
    "\n",
    " $ \\Large E((X-\\mu)^2) = \\sigma^2 = \\Sigma^n_{i=1}p(x_i)(x_i - \\mu)^2$"
   ]
  },
  {
   "cell_type": "markdown",
   "metadata": {},
   "source": [
    "\n",
    "## Let's calculate the variance for the Lotto Ball example\n"
   ]
  },
  {
   "cell_type": "code",
   "execution_count": 57,
   "metadata": {},
   "outputs": [],
   "source": [
    "# Code"
   ]
  },
  {
   "cell_type": "code",
   "execution_count": 58,
   "metadata": {},
   "outputs": [
    {
     "data": {
      "text/plain": [
       "1.0275"
      ]
     },
     "execution_count": 58,
     "metadata": {},
     "output_type": "execute_result"
    }
   ],
   "source": [
    "#__SOLUTION__\n",
    "expected_value = np.sum(np.array(list(lotto_dict.keys())) \n",
    "                        * np.array(list(lotto_dict.values())))\n",
    "variance = np.sum(np.array(list(lotto_dict.values())) \n",
    "                  * (np.array(list(lotto_dict.keys()) - np.full(4,expected_value))**2\n",
    "                                 ))\n",
    "variance"
   ]
  },
  {
   "cell_type": "markdown",
   "metadata": {},
   "source": [
    "# Pair Program 7 minutes"
   ]
  },
  {
   "cell_type": "markdown",
   "metadata": {},
   "source": [
    "The **uniform** distribution describes a set of discrete outcomes whose probabilities are all equally likely.\n",
    "\n",
    "A common example is the roll of a die.  \n",
    "\n",
    "![dice](https://media.giphy.com/media/3ohhwLh5dw0i7iLzOg/giphy.gif)\n",
    "\n"
   ]
  },
  {
   "cell_type": "markdown",
   "metadata": {},
   "source": [
    "For the following pair programming challenge, you are tasked with:\n",
    "\n",
    "    1. Calculating the expected value of a 12-sided die roll using the above equations.\n",
    "    2. Calculating the variance and standard deviation of the 12-sided die roll using the above equations.\n",
    "    3. Plot the pmf of the 12-sided die roll."
   ]
  },
  {
   "cell_type": "code",
   "execution_count": 59,
   "metadata": {},
   "outputs": [],
   "source": [
    "# Your code here\n",
    "expected_value = None"
   ]
  },
  {
   "cell_type": "code",
   "execution_count": 60,
   "metadata": {},
   "outputs": [],
   "source": [
    "# Your code here\n",
    "variance = None\n",
    "standard_deviation = None"
   ]
  },
  {
   "cell_type": "code",
   "execution_count": 61,
   "metadata": {},
   "outputs": [],
   "source": [
    "# Your code here"
   ]
  },
  {
   "cell_type": "code",
   "execution_count": 62,
   "metadata": {},
   "outputs": [
    {
     "data": {
      "text/plain": [
       "6.5"
      ]
     },
     "execution_count": 62,
     "metadata": {},
     "output_type": "execute_result"
    }
   ],
   "source": [
    "#__SOLUTION__\n",
    "expected_value = sum([1/12 * value for value in range(1,13)])\n",
    "expected_value"
   ]
  },
  {
   "cell_type": "code",
   "execution_count": 63,
   "metadata": {},
   "outputs": [
    {
     "data": {
      "text/plain": [
       "3.452052529534663"
      ]
     },
     "execution_count": 63,
     "metadata": {},
     "output_type": "execute_result"
    }
   ],
   "source": [
    "#__SOLUTION__\n",
    "variance = sum([1/12 * (value-ev)**2 for value in range(1,13) ])\n",
    "standard_deviation = np.sqrt(var)\n",
    "standard_deviation"
   ]
  },
  {
   "cell_type": "markdown",
   "metadata": {},
   "source": [
    "To check your answers, use the formulae below."
   ]
  },
  {
   "cell_type": "markdown",
   "metadata": {},
   "source": [
    "\n",
    "$\\Large E(X)=\\frac{a+b}{2}$\n",
    "\n",
    "Where a is the lowest value and b is the highest. \n",
    "\n"
   ]
  },
  {
   "cell_type": "code",
   "execution_count": 64,
   "metadata": {},
   "outputs": [
    {
     "data": {
      "text/plain": [
       "True"
      ]
     },
     "execution_count": 64,
     "metadata": {},
     "output_type": "execute_result"
    }
   ],
   "source": [
    "# Let's check out that the two methods equal the same thing.\n",
    "expected_value == (1+12)/2"
   ]
  },
  {
   "cell_type": "markdown",
   "metadata": {},
   "source": [
    "Variance can be calculated as follows:\n",
    "\n",
    "$ \\Large\\sigma^2=\\frac{(b-a+1)^2-1}{12} $"
   ]
  },
  {
   "cell_type": "code",
   "execution_count": 65,
   "metadata": {},
   "outputs": [
    {
     "data": {
      "text/plain": [
       "True"
      ]
     },
     "execution_count": 65,
     "metadata": {},
     "output_type": "execute_result"
    }
   ],
   "source": [
    "# Again, let's check our math\n",
    "round(variance,7) == round(((12-1+1)**2-1)/12, 7)"
   ]
  },
  {
   "cell_type": "code",
   "execution_count": 66,
   "metadata": {},
   "outputs": [
    {
     "data": {
      "text/plain": [
       "<BarContainer object of 12 artists>"
      ]
     },
     "execution_count": 66,
     "metadata": {},
     "output_type": "execute_result"
    },
    {
     "data": {
      "image/png": "[encoded data removed]",
      "text/plain": [
       "<Figure size 432x288 with 1 Axes>"
      ]
     },
     "metadata": {
      "needs_background": "light"
     },
     "output_type": "display_data"
    }
   ],
   "source": [
    "#__SOLUTION__\n",
    "result_set = list(range(1,13))\n",
    "roll_probabilities = [1/13 for result in result_set]\n",
    "\n",
    "fig, ax = plt.subplots()\n",
    "ax.bar(result_set, roll_probabilities, width=.5)"
   ]
  },
  {
   "cell_type": "markdown",
   "metadata": {},
   "source": [
    "The pmf of a discrete uniform distribution is simply:\n",
    "\n",
    "$ f(x)=\\frac{1}{n} $\n"
   ]
  },
  {
   "cell_type": "markdown",
   "metadata": {},
   "source": [
    "## PDF: Probability Density Function\n",
    "> Probability density functions are similar to PMFs, in that they describe the probability of a result within a range of values.  But where PMFs can be descibed with barplots, PDFs are smooth curves.  \n",
    "\n",
    "![](images/pdf_temp.png)\n",
    "\n"
   ]
  },
  {
   "cell_type": "markdown",
   "metadata": {},
   "source": [
    "We can think of a pdf as a bunch of bars of probabilities getting smaller and smaller until each neighbor is indistinguishable from its neighbor.\n"
   ]
  },
  {
   "cell_type": "markdown",
   "metadata": {},
   "source": [
    "![](images/pdf_inter.png)"
   ]
  },
  {
   "cell_type": "markdown",
   "metadata": {},
   "source": [
    "# Describing the PDF"
   ]
  },
  {
   "cell_type": "markdown",
   "metadata": {},
   "source": [
    "Instead of calculating the mean and standard deviation by hand (this would require integration), we will rather get familiar with how they affect the shape of our PDF.\n"
   ]
  },
  {
   "cell_type": "markdown",
   "metadata": {},
   "source": [
    "The mean of our PDF affects where it is centered on the x-axis.  In numpy and stats, mean is denoted by the loc parameter.\n",
    "\n",
    "The two plots below have the same shape, but different centers."
   ]
  },
  {
   "cell_type": "code",
   "execution_count": 68,
   "metadata": {},
   "outputs": [
    {
     "data": {
      "text/plain": [
       "Text(0.5, 1.0, 'Two distributions differing only in mean')"
      ]
     },
     "execution_count": 68,
     "metadata": {},
     "output_type": "execute_result"
    },
    {
     "data": {
      "image/png": "[encoded data removed]",
      "text/plain": [
       "<Figure size 432x288 with 1 Axes>"
      ]
     },
     "metadata": {
      "needs_background": "light"
     },
     "output_type": "display_data"
    }
   ],
   "source": [
    "fig, ax = plt.subplots()\n",
    "\n",
    "mean = 0\n",
    "z_curve = np.linspace(stats.norm(mean,1).ppf(0.01),\n",
    "             stats.norm(mean,1).ppf(0.99), 100)\n",
    "ax.plot(z_curve, stats.norm(mean,1).pdf(z_curve),\n",
    "     'r-', lw=5, alpha=0.6, label='z_curve')\n",
    "\n",
    "mean = 1\n",
    "z_curve = np.linspace(stats.norm(mean,1).ppf(0.01),\n",
    "             stats.norm(mean,1).ppf(0.99), 100)\n",
    "ax.plot(z_curve, stats.norm(mean,1).pdf(z_curve),\n",
    "     'b-', lw=5, alpha=0.6, label='norm pdf')\n",
    "\n",
    "ax.set_title(\"Two distributions differing only in mean\")"
   ]
  },
  {
   "cell_type": "markdown",
   "metadata": {},
   "source": [
    "The variance of our plots describes how closely the points are gathered around the mean.  Low variance means tight and skinny, high variance short and wide."
   ]
  },
  {
   "cell_type": "code",
   "execution_count": 69,
   "metadata": {},
   "outputs": [
    {
     "data": {
      "text/plain": [
       "Text(0.5, 1.0, 'Two distributions with different variance')"
      ]
     },
     "execution_count": 69,
     "metadata": {},
     "output_type": "execute_result"
    },
    {
     "data": {
      "image/png": "[encoded data removed]",
      "text/plain": [
       "<Figure size 432x288 with 1 Axes>"
      ]
     },
     "metadata": {
      "needs_background": "light"
     },
     "output_type": "display_data"
    }
   ],
   "source": [
    "# Mess around with the variance to see how the shape is altered.\n",
    "\n",
    "fig, ax = plt.subplots()\n",
    "\n",
    "mean = 1\n",
    "var = 1\n",
    "z_curve = np.linspace(stats.norm(mean,var).ppf(0.01),\n",
    "             stats.norm(mean,var).ppf(0.99), 100)\n",
    "ax.plot(z_curve, stats.norm(mean,var).pdf(z_curve),\n",
    "     'r-', lw=5, alpha=0.6, label='z_curve')\n",
    "\n",
    "mean = 1\n",
    "var = 3\n",
    "z_curve = np.linspace(stats.norm(mean,var).ppf(0.01),\n",
    "             stats.norm(mean,var).ppf(0.99), 100)\n",
    "ax.plot(z_curve, stats.norm(mean,var).pdf(z_curve),\n",
    "     'b-', lw=5, alpha=0.6, label='norm pdf')\n",
    "\n",
    "ax.set_title(\"Two distributions with different variance\")"
   ]
  },
  {
   "cell_type": "markdown",
   "metadata": {},
   "source": [
    "## Skew \n",
    "\n",
    "We will touch briefly on the third and fourth moments for the normal curve. Skew is a measure of assymemtry.  A skew of zero is perfectly symetrical about the mean.   \n",
    "![skew](images/skew.png)"
   ]
  },
  {
   "cell_type": "code",
   "execution_count": 73,
   "metadata": {},
   "outputs": [
    {
     "name": "stdout",
     "output_type": "stream",
     "text": [
      "0.002429288587048337\n"
     ]
    }
   ],
   "source": [
    "# We can check skew with scipy\n",
    "z_curve = np.random.normal(0,1, 1000)\n",
    "print(stats.skew(z_curve))"
   ]
  },
  {
   "cell_type": "markdown",
   "metadata": {},
   "source": [
    "To add right skew to the data, let's add some outliers to the left of the mean."
   ]
  },
  {
   "cell_type": "markdown",
   "metadata": {},
   "source": [
    "To learn about skew, let's take a normal distribution, and add values to skew it."
   ]
  },
  {
   "cell_type": "code",
   "execution_count": 77,
   "metadata": {},
   "outputs": [
    {
     "data": {
      "image/png": "[encoded data removed]",
      "text/plain": [
       "<Figure size 432x288 with 1 Axes>"
      ]
     },
     "metadata": {
      "needs_background": "light"
     },
     "output_type": "display_data"
    }
   ],
   "source": [
    "# Update add right skew with data to skew it.\n",
    "z_curve = np.random.normal(0,1, 1000)\n",
    "add_right_skew = [0]\n",
    "right_skewed_data = np.concatenate([z_curve, add_right_skew])\n",
    "\n",
    "fig, ax = plt.subplots()\n",
    "ax.hist(right_skewed_data)\n",
    "ax.set_title(f\"Right Skew {stats.skew(right_skewed_data)}\");"
   ]
  },
  {
   "cell_type": "code",
   "execution_count": 78,
   "metadata": {},
   "outputs": [
    {
     "data": {
      "image/png": "[encoded data removed]",
      "text/plain": [
       "<Figure size 432x288 with 1 Axes>"
      ]
     },
     "metadata": {
      "needs_background": "light"
     },
     "output_type": "display_data"
    }
   ],
   "source": [
    "#__SOLUTION__\n",
    "z_curve = np.random.normal(0,1, 1000)\n",
    "add_right_skew = np.random.choice(np.random.normal(5,1,1000) , 10)\n",
    "right_skewed_data = np.concatenate([z_curve, add_right_skew])\n",
    "\n",
    "fig, ax = plt.subplots()\n",
    "ax.hist(right_skewed_data)\n",
    "ax.set_title(f\"Right Skew {stats.skew(right_skewed_data)}\");"
   ]
  },
  {
   "cell_type": "code",
   "execution_count": 79,
   "metadata": {},
   "outputs": [
    {
     "data": {
      "image/png": "[encoded data removed]",
      "text/plain": [
       "<Figure size 432x288 with 1 Axes>"
      ]
     },
     "metadata": {
      "needs_background": "light"
     },
     "output_type": "display_data"
    }
   ],
   "source": [
    "# Now, do the same for left skewed data\n",
    "\n",
    "z_curve = np.random.normal(0,1, 1000)\n",
    "add_left_skew = [0]\n",
    "left_skewed_data = np.concatenate([z_curve, add_left_skew])\n",
    "\n",
    "fig, ax = plt.subplots()\n",
    "ax.hist(left_skewed_data)\n",
    "ax.set_title(f\"Left Skew {stats.skew(left_skewed_data)}\");"
   ]
  },
  {
   "cell_type": "code",
   "execution_count": 80,
   "metadata": {},
   "outputs": [
    {
     "data": {
      "image/png": "[encoded data removed]",
      "text/plain": [
       "<Figure size 432x288 with 1 Axes>"
      ]
     },
     "metadata": {
      "needs_background": "light"
     },
     "output_type": "display_data"
    }
   ],
   "source": [
    "#__SOLUTION__\n",
    "z_curve = np.random.normal(0,1, 1000)\n",
    "add_left_skew = np.random.choice(np.random.normal(-5,1,1000) , 10)\n",
    "left_skewed_data = np.concatenate([z_curve, add_left_skew])\n",
    "\n",
    "fig, ax = plt.subplots()\n",
    "ax.hist(left_skewed_data)\n",
    "ax.set_title(f\"Left Skew {stats.skew(left_skewed_data)}\");"
   ]
  },
  {
   "cell_type": "markdown",
   "metadata": {},
   "source": [
    "# Pair Program\n",
    "\n",
    "When we get to modeling, certain models may be improved by correcting the skew of our distributions to make them more normal.  below are a few different ways to correct for different types of skew."
   ]
  },
  {
   "cell_type": "markdown",
   "metadata": {},
   "source": [
    "### Transforming  Right/Positively Skewed Data\n",
    "\n",
    "We may want to transform our skewed data to make it approach symmetry.\n",
    "\n",
    "Common transformations of this data include \n",
    "\n",
    "#### Square root transformation:\n",
    "Applied to positive values only. Hence, observe the values of column before applying.\n",
    "\n",
    "\n",
    "#### The cube root transformation: \n",
    "involves converting x to x^(1/3). This is a fairly strong transformation with a substantial effect on distribution shape: but is weaker than the logarithm. It can be applied to negative and zero values too. Negatively skewed data.\n",
    "\n",
    "#### The logarithm:\n",
    "x to log base 10 of x, or x to log base e of x (ln x), or x to log base 2 of x, is a strong transformation and can be used to reduce right skewness."
   ]
  },
  {
   "cell_type": "code",
   "execution_count": 91,
   "metadata": {},
   "outputs": [],
   "source": [
    "# np.log(array_like_object) will transform each element of the array."
   ]
  },
  {
   "cell_type": "markdown",
   "metadata": {},
   "source": [
    "## Left/Negatively Skewed Data\n",
    "\n",
    "### Square transformation:\n",
    "The square, x to x2, has a moderate effect on distribution shape and it could be used to reduce left skewness.\n",
    "Another method of handling skewness is finding outliers and possibly removing them"
   ]
  },
  {
   "cell_type": "markdown",
   "metadata": {},
   "source": [
    "Let's return to the Divy ride times."
   ]
  },
  {
   "cell_type": "markdown",
   "metadata": {},
   "source": [
    "Let's return to our Divy ride time example.  \n",
    "\n",
    "Below is the original distribution of ride times.\n"
   ]
  },
  {
   "cell_type": "code",
   "execution_count": 81,
   "metadata": {},
   "outputs": [
    {
     "data": {
      "image/png": "[encoded data removed]",
      "text/plain": [
       "<Figure size 432x288 with 1 Axes>"
      ]
     },
     "metadata": {
      "needs_background": "light"
     },
     "output_type": "display_data"
    }
   ],
   "source": [
    "fig, ax = plt.subplots()\n",
    "\n",
    "ax.hist(divy_trips.ride_time, bins=50);\n",
    "ax.set_title(\"\"\"Divy Bike Ride Time: \n",
    "                Heavy Right Skew = {}\"\"\".format(round(stats.skew(divy_trips.ride_time),3)));\n"
   ]
  },
  {
   "cell_type": "markdown",
   "metadata": {},
   "source": [
    "With a partner, apply an appropriate transformation to reduce the skew of the distribution:\n",
    "    \n",
    "  - 1. Select and apply an appropriate transformation\n",
    "  - 1. Plot transformed distribution\n",
    "  - 3. Report transformed skew\n",
    "    - Hint: certain transformations don't like zeros\n",
    "    "
   ]
  },
  {
   "cell_type": "code",
   "execution_count": 82,
   "metadata": {},
   "outputs": [],
   "source": [
    "# your code here"
   ]
  },
  {
   "cell_type": "code",
   "execution_count": 83,
   "metadata": {},
   "outputs": [
    {
     "data": {
      "text/plain": [
       "Text(0.5, 1.0, 'Log Transformed Ride Times: -1.35')"
      ]
     },
     "execution_count": 83,
     "metadata": {},
     "output_type": "execute_result"
    },
    {
     "data": {
      "image/png": "[encoded data removed]",
      "text/plain": [
       "<Figure size 432x288 with 1 Axes>"
      ]
     },
     "metadata": {
      "needs_background": "light"
     },
     "output_type": "display_data"
    }
   ],
   "source": [
    "#__SOLUTION__\n",
    "fig, ax = plt.subplots()\n",
    "log_ride = np.log(divy_trips[divy_trips.ride_time>0]['ride_time'])\n",
    "ax.hist(log_ride, bins=50);\n",
    "ax.set_title(\"Log Transformed Ride Times: {}\".format(round(stats.skew(log_ride),2)))"
   ]
  },
  {
   "cell_type": "markdown",
   "metadata": {},
   "source": [
    "# Kurtosis\n",
    "\n",
    "![kurtosis](images/kurtosis.png)\n"
   ]
  },
  {
   "cell_type": "markdown",
   "metadata": {},
   "source": [
    "## CDF: Cumulative Distribution Function\n",
    "\n",
    "![](images/cdf.png)"
   ]
  },
  {
   "cell_type": "markdown",
   "metadata": {},
   "source": [
    "The cumulative distribution function describes the probability that your result will be of a value equal to or below a certain value. It can apply to both discrete or continuous functions.\n",
    "\n",
    "For the scenario above, the CDF would describe the probability of drawing a ball equal to or below a certain number.  \n",
    "\n",
    "In order to create the CDF from a sample, we:\n",
    "- align the values from least to greatest\n",
    "- for each value, count the number of values that are less than or equal to the current value\n",
    "- divide that count by the total number of values\n",
    "\n",
    "The CDF of the Lotto example plots how likely we are to get a ball less than or equal to a given example. \n",
    "\n",
    "Let's create the CDF for our Lotto example\n"
   ]
  },
  {
   "cell_type": "code",
   "execution_count": 84,
   "metadata": {},
   "outputs": [],
   "source": [
    "lotto_dict = {0:0, 1:50, 2:25, 3:15, 4:10}\n",
    "# align the values\n",
    "\n",
    "# count the number of values that are less than or equal to the current value\n",
    "\n",
    "# divide by total number of values\n"
   ]
  },
  {
   "cell_type": "code",
   "execution_count": 85,
   "metadata": {},
   "outputs": [],
   "source": [
    "#__SOLUTION__\n",
    "# align the values\n",
    "lotto_dict = {0:0, 1:50, 2:25, 3:15, 4:10}\n",
    "values = list(lotto_dict.keys())\n",
    "# count the number of values that are less than or equal to the current value\n",
    "count_less_than_equal = np.cumsum(list(lotto_dict.values()))\n",
    "# divide by total number of values\n",
    "prob_less_than_or_equal = count_less_than_equal/sum(lotto_dict.values()) "
   ]
  },
  {
   "cell_type": "code",
   "execution_count": 86,
   "metadata": {},
   "outputs": [
    {
     "data": {
      "image/png": "[encoded data removed]",
      "text/plain": [
       "<Figure size 432x288 with 1 Axes>"
      ]
     },
     "metadata": {
      "needs_background": "light"
     },
     "output_type": "display_data"
    }
   ],
   "source": [
    "#__SOLUTION__\n",
    "fix, ax = plt.subplots()\n",
    "ax.bar(values, prob_less_than_or_equal, width=1)\n",
    "\n",
    "ax.set_title('Lotto CDF')\n",
    "\n",
    "x_tick_values = list(range(0,6))\n",
    "x_tick_pos = [tick-.5 for tick in x_tick_values]\n",
    "\n",
    "ax.set_xticks(x_tick_pos)\n",
    "ax.set_xticklabels(x_tick_values);"
   ]
  },
  {
   "cell_type": "markdown",
   "metadata": {},
   "source": [
    "# Pair Program\n",
    "Taking what we know about cumulative distribution functions, create a plot of the CDF of divy bike rides by hour of the day.\n",
    "\n",
    "Take this in steps (no pun intended).\n",
    "1. Count the number of rides per hour.  Hint: Use groupby.\n",
    "2. Make sure the hours are arranged from earliest to latest.\n",
    "3. Calculate the cumulative sum after each hour (hint: try np.cumsum())\n",
    "4. Use a list comprehension or for loop to divide each hours cumsum by the total.\n",
    "5. Create a bar plot in matplotlib.\n",
    "6. Fix the x-ticks to be positioned at the beginning of each bar\n"
   ]
  },
  {
   "cell_type": "code",
   "execution_count": 238,
   "metadata": {},
   "outputs": [
    {
     "data": {
      "image/png": "[encoded data removed]",
      "text/plain": [
       "<Figure size 432x288 with 1 Axes>"
      ]
     },
     "metadata": {
      "needs_background": "light"
     },
     "output_type": "display_data"
    }
   ],
   "source": [
    "#__SOLUTION__\n",
    "\n",
    "rides_per_hr = divy_trips.groupby('hour').count()['ride_id']\n",
    "\n",
    "rides_per_hr_cs = rides_per_hr.cumsum()\n",
    "\n",
    "rides_per_hr_cdf = [hour_count/rides_per_hr_cs[23] for hour_count in rides_per_hr_cs]\n",
    "\n",
    "fig, ax = plt.subplots()\n",
    "ax.bar(rides_per_hr_cs.index, rides_per_hr_cdf, width=.8)\n",
    "\n",
    "x_tick_values = list(range(0,25))\n",
    "x_tick_pos = [tick-.5 for tick in x_tick_values]\n",
    "\n",
    "ax.set_xticks(x_tick_pos)\n",
    "ax.set_xticklabels(x_tick_values)\n",
    "ax.set_title('Divy-bike Ride CDF');"
   ]
  },
  {
   "cell_type": "code",
   "execution_count": 100,
   "metadata": {},
   "outputs": [
    {
     "data": {
      "text/plain": [
       "(array([0.00404791, 0.00654506, 0.00807239, 0.00919447, 0.01173847,\n",
       "        0.02415628, 0.05968793, 0.13569633, 0.23594066, 0.28480136,\n",
       "        0.32155816, 0.36652323, 0.41913668, 0.47341568, 0.52679515,\n",
       "        0.59331392, 0.69816134, 0.82208406, 0.89483634, 0.93784538,\n",
       "        0.96320103, 0.98196712, 0.99338232, 1.        ]),\n",
       " array([ 0.        ,  0.95833333,  1.91666667,  2.875     ,  3.83333333,\n",
       "         4.79166667,  5.75      ,  6.70833333,  7.66666667,  8.625     ,\n",
       "         9.58333333, 10.54166667, 11.5       , 12.45833333, 13.41666667,\n",
       "        14.375     , 15.33333333, 16.29166667, 17.25      , 18.20833333,\n",
       "        19.16666667, 20.125     , 21.08333333, 22.04166667, 23.        ]),\n",
       " <a list of 24 Patch objects>)"
      ]
     },
     "execution_count": 100,
     "metadata": {},
     "output_type": "execute_result"
    },
    {
     "data": {
      "image/png": "[encoded data removed]",
      "text/plain": [
       "<Figure size 432x288 with 1 Axes>"
      ]
     },
     "metadata": {
      "needs_background": "light"
     },
     "output_type": "display_data"
    }
   ],
   "source": [
    "#__SOLUTION__\n",
    "# Simple solution\n",
    "fig, ax = plt.subplots()\n",
    "ax.hist(divy_trips['hour'], cumulative=True, bins=24, density=True)"
   ]
  },
  {
   "cell_type": "markdown",
   "metadata": {},
   "source": [
    "- For continuous random variables, obtaining probabilities for observing a specific outcome is not possible \n",
    "- Have to be careful with interpretation in PDF\n",
    "\n",
    "We can, however, use the CDF to learn the probability that a variable will be less than or equal to a given value.\n",
    "\n"
   ]
  },
  {
   "cell_type": "markdown",
   "metadata": {},
   "source": [
    "Consider the following normal distributions of heights (more on the normal distribution below).\n",
    "\n",
    "The PDF and the CDF look like so:\n"
   ]
  },
  {
   "cell_type": "code",
   "execution_count": 101,
   "metadata": {},
   "outputs": [
    {
     "data": {
      "text/plain": [
       "Text(0.5, 1.0, 'CDF of Male Height in the US')"
      ]
     },
     "execution_count": 101,
     "metadata": {},
     "output_type": "execute_result"
    },
    {
     "data": {
      "image/png": "[encoded data removed]",
      "text/plain": [
       "<Figure size 720x360 with 2 Axes>"
      ]
     },
     "metadata": {
      "needs_background": "light"
     },
     "output_type": "display_data"
    }
   ],
   "source": [
    "r = sorted(stats.norm.rvs(loc=70,scale=3,size=1000))\n",
    "r_cdf = stats.norm.cdf(r, loc=70, scale=3)\n",
    "fig, (ax1,ax2) = plt.subplots(1,2, figsize=(10,5))\n",
    "sns.kdeplot(r, ax=ax1, shade=True)\n",
    "ax1.set_title('PDF of Male Height in US')\n",
    "\n",
    "ax2.plot(r, r_cdf, color='g')\n",
    "ax2.set_title('CDF of Male Height in the US')\n",
    "\n"
   ]
  },
  {
   "cell_type": "markdown",
   "metadata": {},
   "source": [
    "If we provide numpy with the underlying parameters of our distribution, we can calculate: \n"
   ]
  },
  {
   "cell_type": "code",
   "execution_count": 102,
   "metadata": {},
   "outputs": [
    {
     "data": {
      "text/plain": [
       "0.8413447460685429"
      ]
     },
     "execution_count": 102,
     "metadata": {},
     "output_type": "execute_result"
    }
   ],
   "source": [
    "# the probability that a value falls below a specified value\n",
    "r = stats.norm(70,3)\n",
    "r.cdf(73)\n"
   ]
  },
  {
   "cell_type": "code",
   "execution_count": 103,
   "metadata": {},
   "outputs": [
    {
     "data": {
      "text/plain": [
       "0.6826894921370859"
      ]
     },
     "execution_count": 103,
     "metadata": {},
     "output_type": "execute_result"
    }
   ],
   "source": [
    "# the probability that a value falls between two specified values\n",
    "r = stats.norm(70,3)\n",
    "r.cdf(73) - r.cdf(67)\n"
   ]
  },
  {
   "cell_type": "markdown",
   "metadata": {},
   "source": [
    "We can also calculate the value associated with a specfic percentile:"
   ]
  },
  {
   "cell_type": "code",
   "execution_count": 104,
   "metadata": {},
   "outputs": [
    {
     "data": {
      "text/plain": [
       "74.93456088085442"
      ]
     },
     "execution_count": 104,
     "metadata": {},
     "output_type": "execute_result"
    }
   ],
   "source": [
    "r.ppf(.95)"
   ]
  },
  {
   "cell_type": "markdown",
   "metadata": {},
   "source": [
    "And from there, the value of ranges, such as the interquartile range:"
   ]
  },
  {
   "cell_type": "code",
   "execution_count": 105,
   "metadata": {},
   "outputs": [
    {
     "name": "stdout",
     "output_type": "stream",
     "text": [
      "interquartile range 67.97653074941175 - 72.02346925058825\n",
      "(array([0.925, 1.075, 1.075, 0.925, 0.925]), array([68.0285745 , 68.0285745 , 72.04366153, 72.04366153, 68.0285745 ]))\n"
     ]
    },
    {
     "data": {
      "image/png": "[encoded data removed]",
      "text/plain": [
       "<Figure size 432x288 with 1 Axes>"
      ]
     },
     "metadata": {
      "needs_background": "light"
     },
     "output_type": "display_data"
    }
   ],
   "source": [
    "print(f'interquartile range {r.ppf(.25)} - {r.ppf(.75)}')\n",
    "\n",
    "# We can see that the boxplot's interquartile range aligns with our ppf calculation above\n",
    "box = plt.boxplot(stats.norm.rvs(loc=70,scale=3,size=1000));\n",
    "print(box['boxes'][0].get_data())\n"
   ]
  },
  {
   "cell_type": "markdown",
   "metadata": {},
   "source": [
    "![break](https://media.giphy.com/media/mX3Pf78rXsfxrUDNwi/giphy.gif)"
   ]
  },
  {
   "cell_type": "markdown",
   "metadata": {},
   "source": [
    "# 3. Bernouli and Binomial Distributions\n",
    "\n",
    "The Bernouli distribution is the discrete distribution that describes a two-outcome trial, such as heads or tails.  The distribution is described by the probability of one random variable of the value 1 associated with the probability p, and its correlary, the probability q, associated with 0  and taking the probability 1-p. \n",
    "\n",
    "PMF: \n",
    "${\\displaystyle {\\begin{cases}q=1-p&{\\text{if }}k=0\\\\p&{\\text{if }}k=1\\end{cases}}}$"
   ]
  },
  {
   "cell_type": "markdown",
   "metadata": {},
   "source": [
    "The simplest example is, once again, a coin flip.  In this scenario, we define either heads or tails as a \"success\", and assume, if the coin is fair, the probability of success to be .5"
   ]
  },
  {
   "cell_type": "markdown",
   "metadata": {},
   "source": [
    "![](images/bernouli.png)"
   ]
  },
  {
   "cell_type": "markdown",
   "metadata": {},
   "source": [
    "Another example would be the chance a nohitter would occur in a baseball game.\n",
    "\n",
    "![no_hitter](https://media.giphy.com/media/nTbCRLw5ZPWBa/giphy.gif)\n",
    "\n",
    "We will scrape data from the web for this example:"
   ]
  },
  {
   "cell_type": "code",
   "execution_count": 110,
   "metadata": {},
   "outputs": [
    {
     "data": {
      "text/html": [
       "<div>\n",
       "<style scoped>\n",
       "    .dataframe tbody tr th:only-of-type {\n",
       "        vertical-align: middle;\n",
       "    }\n",
       "\n",
       "    .dataframe tbody tr th {\n",
       "        vertical-align: top;\n",
       "    }\n",
       "\n",
       "    .dataframe thead th {\n",
       "        text-align: right;\n",
       "    }\n",
       "</style>\n",
       "<table border=\"1\" class=\"dataframe\">\n",
       "  <thead>\n",
       "    <tr style=\"text-align: right;\">\n",
       "      <th></th>\n",
       "      <th>#</th>\n",
       "      <th>Date</th>\n",
       "      <th>Pitcher</th>\n",
       "      <th>Team</th>\n",
       "      <th>RS</th>\n",
       "      <th>Opponent</th>\n",
       "      <th>RA</th>\n",
       "      <th>League</th>\n",
       "      <th>Catcher</th>\n",
       "      <th>Notes</th>\n",
       "      <th>Year</th>\n",
       "    </tr>\n",
       "  </thead>\n",
       "  <tbody>\n",
       "    <tr>\n",
       "      <th>246</th>\n",
       "      <td>245.0</td>\n",
       "      <td>1998-05-17</td>\n",
       "      <td>David Wells</td>\n",
       "      <td>New York Yankees</td>\n",
       "      <td>4</td>\n",
       "      <td>Minnesota Twins</td>\n",
       "      <td>0</td>\n",
       "      <td>AL</td>\n",
       "      <td>Jorge Posada</td>\n",
       "      <td>[notes 142]</td>\n",
       "      <td>1998</td>\n",
       "    </tr>\n",
       "    <tr>\n",
       "      <th>247</th>\n",
       "      <td>246.0</td>\n",
       "      <td>1999-06-25</td>\n",
       "      <td>José Jiménez</td>\n",
       "      <td>St. Louis Cardinals</td>\n",
       "      <td>1</td>\n",
       "      <td>Arizona Diamondbacks</td>\n",
       "      <td>0</td>\n",
       "      <td>NL</td>\n",
       "      <td>Alberto Castillo</td>\n",
       "      <td>[notes 143]</td>\n",
       "      <td>1999</td>\n",
       "    </tr>\n",
       "    <tr>\n",
       "      <th>248</th>\n",
       "      <td>247.0</td>\n",
       "      <td>1999-07-18</td>\n",
       "      <td>David Cone</td>\n",
       "      <td>New York Yankees (AL)</td>\n",
       "      <td>6</td>\n",
       "      <td>Montreal Expos (NL)</td>\n",
       "      <td>0</td>\n",
       "      <td>Inter</td>\n",
       "      <td>Joe Girardi (2)</td>\n",
       "      <td>[notes 144]</td>\n",
       "      <td>1999</td>\n",
       "    </tr>\n",
       "    <tr>\n",
       "      <th>249</th>\n",
       "      <td>248.0</td>\n",
       "      <td>1999-09-11</td>\n",
       "      <td>Eric Milton</td>\n",
       "      <td>Minnesota Twins</td>\n",
       "      <td>7</td>\n",
       "      <td>Anaheim Angels</td>\n",
       "      <td>0</td>\n",
       "      <td>AL</td>\n",
       "      <td>Terry Steinbach (2)</td>\n",
       "      <td>NaN</td>\n",
       "      <td>1999</td>\n",
       "    </tr>\n",
       "    <tr>\n",
       "      <th>250</th>\n",
       "      <td>249.0</td>\n",
       "      <td>2001-04-04</td>\n",
       "      <td>Hideo Nomo (2)</td>\n",
       "      <td>Boston Red Sox</td>\n",
       "      <td>3</td>\n",
       "      <td>Baltimore Orioles</td>\n",
       "      <td>0</td>\n",
       "      <td>AL</td>\n",
       "      <td>Jason Varitek (1)</td>\n",
       "      <td>[notes 145]</td>\n",
       "      <td>2001</td>\n",
       "    </tr>\n",
       "  </tbody>\n",
       "</table>\n",
       "</div>"
      ],
      "text/plain": [
       "         #       Date         Pitcher                   Team  RS  \\\n",
       "246  245.0 1998-05-17     David Wells       New York Yankees   4   \n",
       "247  246.0 1999-06-25    José Jiménez    St. Louis Cardinals   1   \n",
       "248  247.0 1999-07-18      David Cone  New York Yankees (AL)   6   \n",
       "249  248.0 1999-09-11     Eric Milton        Minnesota Twins   7   \n",
       "250  249.0 2001-04-04  Hideo Nomo (2)         Boston Red Sox   3   \n",
       "\n",
       "                 Opponent RA League              Catcher        Notes  Year  \n",
       "246       Minnesota Twins  0     AL         Jorge Posada  [notes 142]  1998  \n",
       "247  Arizona Diamondbacks  0     NL     Alberto Castillo  [notes 143]  1999  \n",
       "248   Montreal Expos (NL)  0  Inter      Joe Girardi (2)  [notes 144]  1999  \n",
       "249        Anaheim Angels  0     AL  Terry Steinbach (2)          NaN  1999  \n",
       "250     Baltimore Orioles  0     AL    Jason Varitek (1)  [notes 145]  2001  "
      ]
     },
     "execution_count": 110,
     "metadata": {},
     "output_type": "execute_result"
    }
   ],
   "source": [
    "import requests \n",
    "response = requests.get('https://en.wikipedia.org/wiki/List_of_Major_League_Baseball_no-hitters')\n",
    "\n",
    "# Scrape the wikipedia table corresponding to no-hitters\n",
    "no_hit_table = pd.read_html('https://en.wikipedia.org/wiki/List_of_Major_League_Baseball_no-hitters')[1]\n",
    "\n",
    "# for demonstration, look at games from 1998, which all had 162 games for 30 teams. The game count is approximately 2430 games\n",
    "no_hit_table['Date'] = pd.to_datetime(no_hit_table['Date'])\n",
    "no_hit_table['Year'] = no_hit_table.Date.apply(lambda x: x.year)\n",
    "\n",
    "# Don't count 2020 given it is currently under way.\n",
    "no_hit_table_1998= no_hit_table[(no_hit_table[\"Date\"] >= \"1998\") & (no_hit_table[\"Date\"] < \"2020\")]\n",
    "\n",
    "no_hit_table_1998.head()"
   ]
  },
  {
   "cell_type": "markdown",
   "metadata": {},
   "source": [
    "To create a Bernouli distribution from the above data, we have to calculate the probability of a no-hitter occuring in a single trial.  In this scenario, a trial is a single game.`"
   ]
  },
  {
   "cell_type": "code",
   "execution_count": 116,
   "metadata": {},
   "outputs": [
    {
     "data": {
      "text/plain": [
       "51480"
      ]
     },
     "execution_count": 116,
     "metadata": {},
     "output_type": "execute_result"
    }
   ],
   "source": [
    "#__SOLUTION__\n",
    "\n",
    "# Calculate the number of total games that have occured, assuming 2430 games per season\n",
    "seasons = list(range(1998, 2020))\n",
    "seasons = len(seasons)\n",
    "\n",
    "total_games = seasons*2340\n",
    "total_games\n"
   ]
  },
  {
   "cell_type": "code",
   "execution_count": 124,
   "metadata": {},
   "outputs": [
    {
     "data": {
      "text/plain": [
       "59"
      ]
     },
     "execution_count": 124,
     "metadata": {},
     "output_type": "execute_result"
    }
   ],
   "source": [
    "#__SOLUTION__\n",
    "# Count the number of no hitters\n",
    "no_hitter_count = no_hit_table_1998.shape[0]\n",
    "no_hitter_count"
   ]
  },
  {
   "cell_type": "code",
   "execution_count": 125,
   "metadata": {},
   "outputs": [
    {
     "data": {
      "text/plain": [
       "0.0011460761460761462"
      ]
     },
     "execution_count": 125,
     "metadata": {},
     "output_type": "execute_result"
    }
   ],
   "source": [
    "#__SOLUTION__\n",
    "# divide number of no hitters by the number of total games\n",
    "\n",
    "p_no_hitter = no_hitter_count/total_games\n",
    "\n",
    "p_no_hitter"
   ]
  },
  {
   "cell_type": "code",
   "execution_count": 127,
   "metadata": {},
   "outputs": [
    {
     "data": {
      "text/plain": [
       "Text(0.5, 1.0, 'Bernouli Distribution of No Hitters')"
      ]
     },
     "execution_count": 127,
     "metadata": {},
     "output_type": "execute_result"
    },
    {
     "data": {
      "image/png": "[encoded data removed]",
      "text/plain": [
       "<Figure size 720x720 with 1 Axes>"
      ]
     },
     "metadata": {
      "needs_background": "light"
     },
     "output_type": "display_data"
    }
   ],
   "source": [
    "# plot Bernouli distribution of no hitter\n",
    "\n",
    "# probability of scoring\n",
    "p = p_no_hitter\n",
    "# probability of missing\n",
    "q = 1 - p_no_hitter\n",
    "\n",
    "fig, ax = plt.subplots(figsize=(10,10))\n",
    "ax.bar(['hitter', 'no hitter'],[q,p], color=['red','green'])\n",
    "ax.set_title('Bernouli Distribution of No Hitters')\n"
   ]
  },
  {
   "cell_type": "code",
   "execution_count": 128,
   "metadata": {},
   "outputs": [
    {
     "data": {
      "text/plain": [
       "0.0011447626555435414"
      ]
     },
     "execution_count": 128,
     "metadata": {},
     "output_type": "execute_result"
    }
   ],
   "source": [
    "(p_no_hitter)*(1-p_no_hitter)"
   ]
  },
  {
   "cell_type": "markdown",
   "metadata": {},
   "source": [
    "The expected value is the probability of success, i.e. **.001146**  \n",
    "The variance is:  \n",
    "$\\sigma^2 = (p\\_no\\_hitter)*(1-p\\_no\\_hitter) = .001147 $"
   ]
  },
  {
   "cell_type": "markdown",
   "metadata": {},
   "source": [
    "## Binomial"
   ]
  },
  {
   "cell_type": "markdown",
   "metadata": {},
   "source": [
    "The Binomial distribution describes the number of successess of a set of bernouli trials. For example, say we have an unfair coin with a probability of landing heads of .8, if we designated our number of trials as 3, our PMF and CDF would look like what we see below:\n",
    "![](images/binomial.png)\n",
    "\n",
    "For the binomial our Expected Value and Variance can be calculated like so:\n",
    "- Expected Value\n",
    "> $E(X) = np$ <br>\n",
    "- Variance\n",
    "> $Var(X) = np(1-p)$<br>\n",
    "\n",
    "If we want to see the probability of a certain number of successes, we use the pmf.\n",
    "$\\Large f(x) = {n \\choose k}p^k(1 - p)^{n - k}$\n",
    "\n",
    "Note: ${n\\choose k} = \\frac{n!}{k!(n - k)!}$, the number of ways of choosing $k$ objects from a total of $n$."
   ]
  },
  {
   "cell_type": "markdown",
   "metadata": {},
   "source": [
    "## Coin Flip Code Along\n",
    "To get our feet wet with the multinomial, let's look at the traditional coin flip example."
   ]
  },
  {
   "cell_type": "markdown",
   "metadata": {},
   "source": [
    "![coin_flip](https://media.giphy.com/media/Q8gsDmBzmNkKE9DVsg/giphy.gif)"
   ]
  },
  {
   "cell_type": "markdown",
   "metadata": {},
   "source": [
    "Let's code out the probability mass distribution of observing a certain number of heads in sets of 10 flips of a fair coin.\n",
    "\n"
   ]
  },
  {
   "cell_type": "code",
   "execution_count": null,
   "metadata": {},
   "outputs": [],
   "source": [
    "#  What is the probability of a succesful trial (p)?\n"
   ]
  },
  {
   "cell_type": "code",
   "execution_count": null,
   "metadata": {},
   "outputs": [],
   "source": [
    "#  How many trials constitute one round of our experiment (k)? \n"
   ]
  },
  {
   "cell_type": "code",
   "execution_count": null,
   "metadata": {},
   "outputs": [],
   "source": [
    "# What is our set of possible outcomes?\n"
   ]
  },
  {
   "cell_type": "markdown",
   "metadata": {},
   "source": [
    "While it may be evident what the set of possible outcomes is, often that is not the case.  We can use stats.binom.ppf() to create a the set of outcomes. \n",
    "\n",
    "**stats.binom.ppf** returns the outcome associated with a given percentage of the cdf. We can then use np.arange to create the set of outcomes associated with a range of percentages.  In this case, we can reproduce the range of using a very low and high percentage.\n"
   ]
  },
  {
   "cell_type": "code",
   "execution_count": 205,
   "metadata": {},
   "outputs": [],
   "source": [
    "# Possible outcomes using ppf\n"
   ]
  },
  {
   "cell_type": "code",
   "execution_count": 206,
   "metadata": {},
   "outputs": [],
   "source": [
    "# What probability is associated with each outcome?\n"
   ]
  },
  {
   "cell_type": "code",
   "execution_count": 207,
   "metadata": {},
   "outputs": [],
   "source": [
    "# Plot the pmf\n"
   ]
  },
  {
   "cell_type": "code",
   "execution_count": 208,
   "metadata": {},
   "outputs": [],
   "source": [
    "#__SOLUTION__\n",
    "#  What is the probability of a succesful trial (p)?\n",
    "p_heads = .5"
   ]
  },
  {
   "cell_type": "code",
   "execution_count": 209,
   "metadata": {},
   "outputs": [],
   "source": [
    "#__SOLUTION__\n",
    "#  How many trials constitute one round of our experiment (k)? \n",
    "n = 10"
   ]
  },
  {
   "cell_type": "code",
   "execution_count": 218,
   "metadata": {},
   "outputs": [
    {
     "data": {
      "text/plain": [
       "array([ 0.,  1.,  2.,  3.,  4.,  5.,  6.,  7.,  8.,  9., 10.])"
      ]
     },
     "execution_count": 218,
     "metadata": {},
     "output_type": "execute_result"
    }
   ],
   "source": [
    "#__SOLUTION__\n",
    "# What is our set of possible outcomes?\n",
    "\n",
    "k_set = list(range(0,11))\n",
    "\n",
    "# or\n",
    "\n",
    "\n",
    "start = stats.binom(n, p_heads).ppf(.0001)\n",
    "stop = stats.binom(n, p_heads).ppf(1)\n",
    "\n",
    "k_set = np.arange(start, stop+1)\n",
    "k_set"
   ]
  },
  {
   "cell_type": "code",
   "execution_count": 219,
   "metadata": {},
   "outputs": [],
   "source": [
    "#__SOLUTION__\n",
    "# What probability is associated with each outcome?\n",
    "\n",
    "probs_k = stats.binom.pmf(k_set, n, p_heads)"
   ]
  },
  {
   "cell_type": "code",
   "execution_count": 220,
   "metadata": {},
   "outputs": [
    {
     "data": {
      "text/plain": [
       "<BarContainer object of 11 artists>"
      ]
     },
     "execution_count": 220,
     "metadata": {},
     "output_type": "execute_result"
    },
    {
     "data": {
      "image/png": "[encoded data removed]",
      "text/plain": [
       "<Figure size 432x288 with 1 Axes>"
      ]
     },
     "metadata": {
      "needs_background": "light"
     },
     "output_type": "display_data"
    }
   ],
   "source": [
    "#__SOLUTION__\n",
    "# Plot the pmf\n",
    "fig, ax = plt.subplots()\n",
    "ax.bar(k_set, probs_k)"
   ]
  },
  {
   "cell_type": "markdown",
   "metadata": {},
   "source": [
    "# Pair Programming (12 minutes)\n",
    "\n",
    "We will expand on our no hitter example from above, modeling the probability of the number of no-hitters occuring over an entire season's worth of games.  \n",
    "\n",
    "In pairs, you will create the PMF and CDF of the multinomial distribution of our no-hitter example.  \n",
    "\n",
    "To get started, \n",
    "\n",
    "     1. calculate the expected value and the variance of the distribution.\n",
    "       - to do so, you must define n (number of trials) and p (the probability of a no-hitter in one trial).  \n",
    "       \n",
    "     2. Create a range of results (i.e. an ordinal set of counts of nohitters per season) using np.arange and stats.binomial.ppf()\n",
    "     \n",
    "     3. Create probabilities associated with each result using stats.binom.ppf\n",
    "     \n",
    "     4. Create a bar plot of the probabilities associated with each no-hitter count\n",
    "     \n",
    "\n",
    "\n"
   ]
  },
  {
   "cell_type": "code",
   "execution_count": 221,
   "metadata": {},
   "outputs": [
    {
     "ename": "TypeError",
     "evalue": "type NoneType doesn't define __round__ method",
     "output_type": "error",
     "traceback": [
      "\u001b[0;31m---------------------------------------------------------------------------\u001b[0m",
      "\u001b[0;31mTypeError\u001b[0m                                 Traceback (most recent call last)",
      "\u001b[0;32m<ipython-input-221-ef10cd6a7190>\u001b[0m in \u001b[0;36m<module>\u001b[0;34m\u001b[0m\n\u001b[1;32m      7\u001b[0m \u001b[0mvariance\u001b[0m \u001b[0;34m=\u001b[0m \u001b[0;32mNone\u001b[0m\u001b[0;34m\u001b[0m\u001b[0;34m\u001b[0m\u001b[0m\n\u001b[1;32m      8\u001b[0m \u001b[0;34m\u001b[0m\u001b[0m\n\u001b[0;32m----> 9\u001b[0;31m \u001b[0mprint\u001b[0m\u001b[0;34m(\u001b[0m\u001b[0;34m\"We expect {} no hitters across a season\"\u001b[0m\u001b[0;34m.\u001b[0m\u001b[0mformat\u001b[0m\u001b[0;34m(\u001b[0m\u001b[0mround\u001b[0m\u001b[0;34m(\u001b[0m\u001b[0mexpected_value\u001b[0m\u001b[0;34m,\u001b[0m\u001b[0;36m5\u001b[0m\u001b[0;34m)\u001b[0m\u001b[0;34m)\u001b[0m\u001b[0;34m)\u001b[0m\u001b[0;34m\u001b[0m\u001b[0;34m\u001b[0m\u001b[0m\n\u001b[0m\u001b[1;32m     10\u001b[0m \u001b[0mprint\u001b[0m\u001b[0;34m(\u001b[0m\u001b[0;34m\"The variance of the nohitter distribution is {}\"\u001b[0m\u001b[0;34m.\u001b[0m\u001b[0mformat\u001b[0m\u001b[0;34m(\u001b[0m\u001b[0mround\u001b[0m\u001b[0;34m(\u001b[0m\u001b[0mvariance\u001b[0m\u001b[0;34m,\u001b[0m \u001b[0;36m5\u001b[0m\u001b[0;34m)\u001b[0m\u001b[0;34m)\u001b[0m\u001b[0;34m)\u001b[0m\u001b[0;34m\u001b[0m\u001b[0;34m\u001b[0m\u001b[0m\n",
      "\u001b[0;31mTypeError\u001b[0m: type NoneType doesn't define __round__ method"
     ]
    }
   ],
   "source": [
    "# 1. calculate the expected value and the variance of the distribution.\n",
    "\n",
    "n = None\n",
    "p = None\n",
    "\n",
    "expected_value = None\n",
    "variance = None\n",
    "\n",
    "print(\"We expect {} no hitters across a season\".format(round(expected_value,5)))\n",
    "print(\"The variance of the nohitter distribution is {}\".format(round(variance, 5)))"
   ]
  },
  {
   "cell_type": "code",
   "execution_count": 222,
   "metadata": {},
   "outputs": [
    {
     "name": "stdout",
     "output_type": "stream",
     "text": [
      "We expect 2.68182 no hitters across a season\n",
      "The variance of the nohitter distribution is 2.67874\n"
     ]
    }
   ],
   "source": [
    "#__SOLUTION__\n",
    "# 1. calculate the expected value and the variance of the distribution.\n",
    "\n",
    "n = 2340\n",
    "p = p_no_hitter\n",
    "\n",
    "expected_value = n*p\n",
    "variance = n*p*(1-p)\n",
    "\n",
    "print(\"We expect {} no hitters across a season\".format(round(expected_value,5)))\n",
    "print(\"The variance of the nohitter distribution is {}\".format(round(variance, 5)))"
   ]
  },
  {
   "cell_type": "code",
   "execution_count": 223,
   "metadata": {},
   "outputs": [],
   "source": [
    "# 2. Create a range of results using np.arrange and stats.binomial.ppf()\n",
    "x = None"
   ]
  },
  {
   "cell_type": "code",
   "execution_count": 224,
   "metadata": {},
   "outputs": [
    {
     "data": {
      "text/plain": [
       "array([ 0.,  1.,  2.,  3.,  4.,  5.,  6.,  7.,  8.,  9., 10.])"
      ]
     },
     "execution_count": 224,
     "metadata": {},
     "output_type": "execute_result"
    }
   ],
   "source": [
    "#__SOLUTION__\n",
    "# 2. Create a range of results using np.arrange and stats.binomial.ppf()\n",
    "x = np.arange(stats.binom(n,p).ppf(.00001), stats.binom.ppf(.9999,n,p))\n",
    "x"
   ]
  },
  {
   "cell_type": "code",
   "execution_count": 225,
   "metadata": {},
   "outputs": [],
   "source": [
    "# 3. Create probabilities associated with each result using stats.binom.ppf\n",
    "\n",
    "p_binom = None"
   ]
  },
  {
   "cell_type": "code",
   "execution_count": 226,
   "metadata": {},
   "outputs": [
    {
     "data": {
      "text/plain": [
       "array([0.06833343, 0.18346811, 0.24619108, 0.2201441 , 0.14757652,\n",
       "       0.07911004, 0.03532472, 0.01351428, 0.00452199, 0.00134439,\n",
       "       0.00035957])"
      ]
     },
     "execution_count": 226,
     "metadata": {},
     "output_type": "execute_result"
    }
   ],
   "source": [
    "#__SOLUTION__\n",
    "# 3. Create probabilities associated with each result using stats.binom.ppf\n",
    "\n",
    "p_binom = stats.binom.pmf(x, 2340, p)\n",
    "p_binom"
   ]
  },
  {
   "cell_type": "code",
   "execution_count": 227,
   "metadata": {},
   "outputs": [],
   "source": [
    "# 4. Create a bar plot of the probabilities associated with each no-hitter count\n"
   ]
  },
  {
   "cell_type": "code",
   "execution_count": 228,
   "metadata": {},
   "outputs": [
    {
     "data": {
      "image/png": "[encoded data removed]",
      "text/plain": [
       "<Figure size 432x288 with 1 Axes>"
      ]
     },
     "metadata": {
      "needs_background": "light"
     },
     "output_type": "display_data"
    }
   ],
   "source": [
    "#__SOLUTION__\n",
    "# 4. Create a bar plot of the probabilities associated with each no-hitter count\n",
    "fig, ax = plt.subplots()\n",
    "ax.bar(x, p_binom)\n",
    "ax.set_title('Probability of Number of No-Hitters\\n Across an MLB Season')\n",
    "ax.set_xlabel('Number of No-Hitters');"
   ]
  },
  {
   "cell_type": "markdown",
   "metadata": {},
   "source": [
    "# 4. Normal Distribution"
   ]
  },
  {
   "cell_type": "markdown",
   "metadata": {},
   "source": [
    "The normal distribution describes many phenomena. Think of anything that has a typical range:\n",
    "- human body temperatures\n",
    "- sizes of elephants\n",
    "- sizes of stars\n",
    "- populations of cities\n",
    "- IQ\n",
    "- Heart rate\n",
    "\n",
    "Among human beings, 98.6 degrees Fahrenheit is an _average_ body temperature. Many folks' temperatures won't measure _exactly_ 98.6 degrees, but most measurements will be _close_. It is much more common to have a body temperature close to 98.6 (whether slightly more or slightly less) than it is to have a body temperature far from 98.6 (whether significantly more or significantly less). This is a hallmark of a normally distributed variable.\n",
    "\n",
    "Similarly, there are large elephants and there are small elephants, but most elephants are near the average size.\n",
    "\n",
    "The normal distribution is _very_ common in nature (**Why?**) and will arise often in your work. Get to know it well!\n",
    "\n",
    "You will recognize it by its characteristic bell curve. \n",
    "\n",
    "![normal_curve](images/IQ_normal.png)"
   ]
  },
  {
   "cell_type": "markdown",
   "metadata": {},
   "source": [
    "You may see the notation \n",
    "\n",
    "$ N(μ,σ2)$\n",
    "\n",
    "where N signifies that the distribution is normal, μ is the mean, and σ2 is the variance. \n"
   ]
  },
  {
   "cell_type": "markdown",
   "metadata": {},
   "source": [
    "The PDF of the normal curve equals:\n",
    "\n",
    "$\\Large f(x) = \\frac{1}{\\sigma\\sqrt{2\\pi}}exp\\left[\\frac{-(x - \\mu)^2}{2\\sigma^2}\\right]$\n"
   ]
  },
  {
   "cell_type": "code",
   "execution_count": 229,
   "metadata": {},
   "outputs": [
    {
     "data": {
      "text/plain": [
       "[<matplotlib.lines.Line2D at 0x11d1b8390>]"
      ]
     },
     "execution_count": 229,
     "metadata": {},
     "output_type": "execute_result"
    },
    {
     "data": {
      "image/png": "[encoded data removed]",
      "text/plain": [
       "<Figure size 432x288 with 1 Axes>"
      ]
     },
     "metadata": {
      "needs_background": "light"
     },
     "output_type": "display_data"
    }
   ],
   "source": [
    "\n",
    "fig, ax = plt.subplots()\n",
    "\n",
    "mu = 0\n",
    "sigma = 1\n",
    "z_curve = np.linspace(stats.norm(mu,sigma).ppf(0.01),\n",
    "             stats.norm(mu,sigma).ppf(0.99), 100)\n",
    "ax.plot(z_curve, stats.norm(mu,sigma).pdf(z_curve),\n",
    "     'r-', lw=5, alpha=0.6, label='z_curve')"
   ]
  },
  {
   "cell_type": "markdown",
   "metadata": {},
   "source": [
    "![](images/normal_2.png)"
   ]
  },
  {
   "cell_type": "markdown",
   "metadata": {},
   "source": [
    "# Quick Solo Challenge\n",
    "\n",
    "Turn off you cameras, turn them back on when you solved the problem, or when 1 minutes is up.\n",
    "\n",
    "suppose the average height of an American woman is 65 inches with a standard deviation of 3.5 inches. \n",
    "Use numpy's random.normal to generate a sample of 1000 women and plot the histogram of the sample.\n"
   ]
  },
  {
   "cell_type": "code",
   "execution_count": 230,
   "metadata": {},
   "outputs": [],
   "source": [
    "# Code here"
   ]
  },
  {
   "cell_type": "code",
   "execution_count": 231,
   "metadata": {},
   "outputs": [
    {
     "data": {
      "image/png": "[encoded data removed]",
      "text/plain": [
       "<Figure size 432x288 with 1 Axes>"
      ]
     },
     "metadata": {
      "needs_background": "light"
     },
     "output_type": "display_data"
    }
   ],
   "source": [
    "#__SOLUTION__\n",
    "\n",
    "fig, ax = plt.subplots()\n",
    "ax.hist(np.random.normal(65, 3.5, 1000))\n",
    "ax.set_title('Distribution of Heights of American Women')\n",
    "ax.set_xlabel('Height in Inches');"
   ]
  },
  {
   "cell_type": "markdown",
   "metadata": {},
   "source": [
    "# Standard Normal Distribution"
   ]
  },
  {
   "cell_type": "markdown",
   "metadata": {},
   "source": [
    "A standard normal distribution has a mean of 0 and variance of 1. This is also known as a z distribution. \n",
    "\n",
    "\n",
    "![norm_to_z](images/norm_to_z.png)"
   ]
  },
  {
   "cell_type": "code",
   "execution_count": 232,
   "metadata": {},
   "outputs": [
    {
     "data": {
      "text/plain": [
       "<matplotlib.axes._subplots.AxesSubplot at 0x11c2d70f0>"
      ]
     },
     "execution_count": 232,
     "metadata": {},
     "output_type": "execute_result"
    },
    {
     "data": {
      "image/png": "[encoded data removed]",
      "text/plain": [
       "<Figure size 432x288 with 1 Axes>"
      ]
     },
     "metadata": {
      "needs_background": "light"
     },
     "output_type": "display_data"
    }
   ],
   "source": [
    "# Let's transform the normal distribtion centered on 5 with a standard deviation of 2 into a z curve\n",
    "normal_dist = np.random.normal(5,2,1000)\n",
    "z_dist = [(x - np.mean(normal_dist))/np.std(normal_dist) \n",
    "          for x in normal_dist]\n",
    "\n",
    "fig, ax = plt.subplots()\n",
    "sns.kdeplot(z_dist, ax=ax)"
   ]
  },
  {
   "cell_type": "markdown",
   "metadata": {},
   "source": [
    "![](images/empirical_rule.png)"
   ]
  },
  {
   "cell_type": "markdown",
   "metadata": {},
   "source": [
    "## Empirical Rule\n",
    "> The empirical or 68–95–99.7 states that 68% of the values of a normal distribution of data lie within 1 standard deviation of the mean, 95% within 2 stds, and 99.7 within three.  \n",
    "> The empirical rule has countless applications in data science, which we will expand upon in the next few lectures."
   ]
  },
  {
   "cell_type": "markdown",
   "metadata": {},
   "source": [
    "By calculating the z-score of an individual point, we can see how unlikely a value is."
   ]
  },
  {
   "cell_type": "markdown",
   "metadata": {},
   "source": [
    "Consider, once again, the distribution of heights of American women, with a mean of 65 inches and a standard deviatio of 3.5 inches.\n",
    "\n",
    "Calculate the zscore of a height of 75inches. \n",
    "\n",
    "Based on the empirical rule, if you were sampling heights of American women, speculate as to how improbable would that height be?"
   ]
  },
  {
   "cell_type": "code",
   "execution_count": 233,
   "metadata": {},
   "outputs": [],
   "source": [
    "# Your code here"
   ]
  },
  {
   "cell_type": "code",
   "execution_count": 234,
   "metadata": {},
   "outputs": [
    {
     "data": {
      "text/plain": [
       "2.857142857142857"
      ]
     },
     "execution_count": 234,
     "metadata": {},
     "output_type": "execute_result"
    }
   ],
   "source": [
    "#__SOLUTION__\n",
    "mu = 65\n",
    "std = 3.5\n",
    "z = (75-65)/3.5\n",
    "z\n",
    "\n",
    "# very improbable.  The height is close to 3 standard deviations away from the mean, which means it is greater than 99% of the population."
   ]
  },
  {
   "cell_type": "markdown",
   "metadata": {},
   "source": [
    "# Exercise"
   ]
  },
  {
   "cell_type": "markdown",
   "metadata": {},
   "source": [
    "Z score can be used to eliminate outliers.\n",
    "\n",
    "For example, you may want to remove points that fall outside of 2.5 standard deviations of the mean.\n",
    "\n",
    "In the diabetes dataset, the boxplot of bmi shows three outliers."
   ]
  },
  {
   "cell_type": "code",
   "execution_count": 235,
   "metadata": {},
   "outputs": [
    {
     "data": {
      "text/plain": [
       "<matplotlib.axes._subplots.AxesSubplot at 0x122d95278>"
      ]
     },
     "execution_count": 235,
     "metadata": {},
     "output_type": "execute_result"
    },
    {
     "data": {
      "image/png": "[encoded data removed]",
      "text/plain": [
       "<Figure size 432x288 with 1 Axes>"
      ]
     },
     "metadata": {
      "needs_background": "light"
     },
     "output_type": "display_data"
    }
   ],
   "source": [
    "from sklearn.datasets import load_diabetes\n",
    "import pandas as pd\n",
    "\n",
    "data = load_diabetes()\n",
    "data.keys()\n",
    "df = pd.DataFrame(data['data'])\n",
    "df.columns = data['feature_names']\n",
    "\n",
    "sns.boxplot(df['bmi'])"
   ]
  },
  {
   "cell_type": "markdown",
   "metadata": {},
   "source": [
    "Using `stats.zscore`,remove all values that fall outside of  2.5 standard deviations on either side of the mean."
   ]
  },
  {
   "cell_type": "code",
   "execution_count": 236,
   "metadata": {},
   "outputs": [],
   "source": [
    "# Your code here"
   ]
  },
  {
   "cell_type": "code",
   "execution_count": 237,
   "metadata": {},
   "outputs": [
    {
     "data": {
      "image/png": "[encoded data removed]",
      "text/plain": [
       "<Figure size 432x288 with 1 Axes>"
      ]
     },
     "metadata": {
      "needs_background": "light"
     },
     "output_type": "display_data"
    }
   ],
   "source": [
    "#__SOLUTION__\n",
    "df_nofliers = df.loc[np.abs(stats.zscore(df['bmi']))<2.5]\n",
    "\n",
    "fig, ax = plt.subplots()\n",
    "sns.boxplot(df_nofliers['bmi'], ax=ax)\n",
    "ax.set_title('Diabetes BMI with Outliers Removed');\n"
   ]
  },
  {
   "cell_type": "markdown",
   "metadata": {},
   "source": [
    "# Bonus: Poisson Distribution\n",
    "\n",
    "The Poisson distribution describes the probability of a certain number of a specific event occuring over a given interval. We assume that these events occur at a constant rate and independently.\n",
    "\n",
    "Examples are:\n",
    "- number of visitors to a website over an hour\n",
    "- number of pieces of mail arriving at your door per day over a month\n",
    "- number of births in a hospital per day\n"
   ]
  },
  {
   "cell_type": "markdown",
   "metadata": {},
   "source": [
    "Shape of the Poisson Distribution is governed by the rate parameter lambda:\n",
    "\n",
    "$\\Large\\lambda = \\frac{Avg\\ number\\ of\\ events}{period\\ of\\ time}$"
   ]
  },
  {
   "cell_type": "markdown",
   "metadata": {},
   "source": [
    "${\\displaystyle P(k)= {\\frac {\\lambda ^{k}e^{-\\lambda }}{k!}}}$"
   ]
  },
  {
   "cell_type": "markdown",
   "metadata": {},
   "source": [
    "Consider the scenario where a website receives 200 hits per hour.\n",
    "\n",
    "The pmf of the Poisson distribution would be:\n"
   ]
  },
  {
   "cell_type": "code",
   "execution_count": 146,
   "metadata": {},
   "outputs": [
    {
     "data": {
      "image/png": "[encoded data removed]",
      "text/plain": [
       "<Figure size 432x432 with 1 Axes>"
      ]
     },
     "metadata": {
      "needs_background": "light"
     },
     "output_type": "display_data"
    }
   ],
   "source": [
    "rate = 40\n",
    "\n",
    "fig, ax = plt.subplots(1, 1, figsize=(6, 6))\n",
    "x = np.arange(stats.poisson.ppf(0.001, rate),\n",
    "              stats.poisson.ppf(.9999, rate))\n",
    "\n",
    "\n",
    "ax.bar(x, stats.poisson(rate).pmf(x), color = 'r',\n",
    "          label='Poisson Distribution:\\n Website Hits Over an Hour')\n",
    "ax.legend(loc='best');"
   ]
  },
  {
   "cell_type": "markdown",
   "metadata": {},
   "source": [
    "The Poisson distribution has a unique characteristic:\n",
    "    \n",
    "$\\Large\\mu = \\sigma^2 = \\lambda$"
   ]
  },
  {
   "cell_type": "markdown",
   "metadata": {},
   "source": [
    "# Code Along\n",
    "\n",
    "Northwestern Memorial is a very busy hospital.  The doctors there deliver, on average, 30 newborns per day.\n",
    "\n",
    "Assume that newborns arrive at a constant rate and independently.\n",
    "\n",
    "What is the probability of seeing exactly 40 newborns delivered on a given day."
   ]
  },
  {
   "cell_type": "code",
   "execution_count": 148,
   "metadata": {},
   "outputs": [
    {
     "name": "stdout",
     "output_type": "stream",
     "text": [
      "['Ali' 'Sindhu' 'Sam']\n"
     ]
    }
   ],
   "source": [
    "three_random_students(student_first_names)"
   ]
  },
  {
   "cell_type": "code",
   "execution_count": 99,
   "metadata": {},
   "outputs": [],
   "source": [
    "# Code here"
   ]
  },
  {
   "cell_type": "code",
   "execution_count": 83,
   "metadata": {},
   "outputs": [
    {
     "data": {
      "text/plain": [
       "0.013943463479967761"
      ]
     },
     "execution_count": 83,
     "metadata": {},
     "output_type": "execute_result"
    }
   ],
   "source": [
    "#__SOLUTION__\n",
    "k = 40\n",
    "lam = 30\n",
    "\n",
    "(lam**k*np.e**-lam)/(np.math.factorial(k))\n"
   ]
  },
  {
   "cell_type": "code",
   "execution_count": null,
   "metadata": {},
   "outputs": [],
   "source": []
  }
 ],
 "metadata": {
  "kernelspec": {
   "display_name": "learn-env",
   "language": "python",
   "name": "learn-env"
  },
  "language_info": {
   "codemirror_mode": {
    "name": "ipython",
    "version": 3
   },
   "file_extension": ".py",
   "mimetype": "text/x-python",
   "name": "python",
   "nbconvert_exporter": "python",
   "pygments_lexer": "ipython3",
   "version": "3.7.3"
  }
 },
 "nbformat": 4,
 "nbformat_minor": 4
}
